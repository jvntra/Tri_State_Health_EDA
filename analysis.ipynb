{
 "cells": [
  {
   "cell_type": "code",
   "execution_count": 1,
   "id": "a246c6d6-db17-479d-988c-ed4dbb5a2231",
   "metadata": {},
   "outputs": [],
   "source": [
    "import pandas as pd\n",
    "import matplotlib.pyplot as plt\n",
    "import seaborn as sns\n",
    "import numpy as np"
   ]
  },
  {
   "cell_type": "code",
   "execution_count": 2,
   "id": "c1f95ee7-cf83-49a7-8579-c03ceaeff7a9",
   "metadata": {},
   "outputs": [
    {
     "name": "stderr",
     "output_type": "stream",
     "text": [
      "/Users/lotuschild132/opt/anaconda3/lib/python3.8/site-packages/IPython/core/interactiveshell.py:3165: DtypeWarning: Columns (171) have mixed types.Specify dtype option on import or set low_memory=False.\n",
      "  has_raised = await self.run_ast_nodes(code_ast.body, cell_name,\n"
     ]
    }
   ],
   "source": [
    "# Read in data\n",
    "df = pd.read_csv('./data/case_study.csv', index_col=0)"
   ]
  },
  {
   "cell_type": "code",
   "execution_count": 3,
   "id": "f68b2a95-d787-44b3-acd1-ca0d499cf62d",
   "metadata": {},
   "outputs": [
    {
     "data": {
      "text/plain": [
       "(34545, 358)"
      ]
     },
     "execution_count": 3,
     "metadata": {},
     "output_type": "execute_result"
    }
   ],
   "source": [
    "df.shape"
   ]
  },
  {
   "cell_type": "code",
   "execution_count": 4,
   "id": "682fe789-0eac-45f2-aede-70e83f07894d",
   "metadata": {},
   "outputs": [
    {
     "data": {
      "text/html": [
       "<div>\n",
       "<style scoped>\n",
       "    .dataframe tbody tr th:only-of-type {\n",
       "        vertical-align: middle;\n",
       "    }\n",
       "\n",
       "    .dataframe tbody tr th {\n",
       "        vertical-align: top;\n",
       "    }\n",
       "\n",
       "    .dataframe thead th {\n",
       "        text-align: right;\n",
       "    }\n",
       "</style>\n",
       "<table border=\"1\" class=\"dataframe\">\n",
       "  <thead>\n",
       "    <tr style=\"text-align: right;\">\n",
       "      <th></th>\n",
       "      <th>_STATE</th>\n",
       "      <th>FMONTH</th>\n",
       "      <th>IDATE</th>\n",
       "      <th>IMONTH</th>\n",
       "      <th>IDAY</th>\n",
       "      <th>IYEAR</th>\n",
       "      <th>DISPCODE</th>\n",
       "      <th>SEQNO</th>\n",
       "      <th>_PSU</th>\n",
       "      <th>CTELENM1</th>\n",
       "      <th>...</th>\n",
       "      <th>_PA300R2</th>\n",
       "      <th>_PA30021</th>\n",
       "      <th>_PASTRNG</th>\n",
       "      <th>_PAREC1</th>\n",
       "      <th>_PASTAE1</th>\n",
       "      <th>_RFSEAT2</th>\n",
       "      <th>_RFSEAT3</th>\n",
       "      <th>_FLSHOT6</th>\n",
       "      <th>_PNEUMO2</th>\n",
       "      <th>_AIDTST3</th>\n",
       "    </tr>\n",
       "  </thead>\n",
       "  <tbody>\n",
       "    <tr>\n",
       "      <th>count</th>\n",
       "      <td>34545.000000</td>\n",
       "      <td>34545.000000</td>\n",
       "      <td>3.454500e+04</td>\n",
       "      <td>34545.000000</td>\n",
       "      <td>34545.000000</td>\n",
       "      <td>34545.000000</td>\n",
       "      <td>34545.000000</td>\n",
       "      <td>3.454500e+04</td>\n",
       "      <td>3.454500e+04</td>\n",
       "      <td>18502.0</td>\n",
       "      <td>...</td>\n",
       "      <td>34545.000000</td>\n",
       "      <td>34545.000000</td>\n",
       "      <td>34545.000000</td>\n",
       "      <td>34545.000000</td>\n",
       "      <td>34545.000000</td>\n",
       "      <td>34545.000000</td>\n",
       "      <td>34545.000000</td>\n",
       "      <td>12211.000000</td>\n",
       "      <td>12211.000000</td>\n",
       "      <td>30772.000000</td>\n",
       "    </tr>\n",
       "    <tr>\n",
       "      <th>mean</th>\n",
       "      <td>27.046693</td>\n",
       "      <td>6.966855</td>\n",
       "      <td>7.273633e+06</td>\n",
       "      <td>7.119323</td>\n",
       "      <td>15.229295</td>\n",
       "      <td>2017.001274</td>\n",
       "      <td>1118.428137</td>\n",
       "      <td>2.017006e+09</td>\n",
       "      <td>2.017006e+09</td>\n",
       "      <td>1.0</td>\n",
       "      <td>...</td>\n",
       "      <td>2.909654</td>\n",
       "      <td>2.651498</td>\n",
       "      <td>2.482038</td>\n",
       "      <td>3.553134</td>\n",
       "      <td>2.801216</td>\n",
       "      <td>1.850485</td>\n",
       "      <td>1.890606</td>\n",
       "      <td>2.380968</td>\n",
       "      <td>2.447875</td>\n",
       "      <td>1.844339</td>\n",
       "    </tr>\n",
       "    <tr>\n",
       "      <th>std</th>\n",
       "      <td>12.026461</td>\n",
       "      <td>3.479398</td>\n",
       "      <td>3.476456e+06</td>\n",
       "      <td>3.476148</td>\n",
       "      <td>8.821280</td>\n",
       "      <td>0.035667</td>\n",
       "      <td>38.771910</td>\n",
       "      <td>3.360677e+03</td>\n",
       "      <td>3.360677e+03</td>\n",
       "      <td>0.0</td>\n",
       "      <td>...</td>\n",
       "      <td>2.499531</td>\n",
       "      <td>2.528344</td>\n",
       "      <td>2.300046</td>\n",
       "      <td>2.457341</td>\n",
       "      <td>2.526893</td>\n",
       "      <td>2.409890</td>\n",
       "      <td>2.403713</td>\n",
       "      <td>2.617896</td>\n",
       "      <td>2.828682</td>\n",
       "      <td>1.347835</td>\n",
       "    </tr>\n",
       "    <tr>\n",
       "      <th>min</th>\n",
       "      <td>9.000000</td>\n",
       "      <td>1.000000</td>\n",
       "      <td>1.012018e+06</td>\n",
       "      <td>1.000000</td>\n",
       "      <td>1.000000</td>\n",
       "      <td>2017.000000</td>\n",
       "      <td>1100.000000</td>\n",
       "      <td>2.017000e+09</td>\n",
       "      <td>2.017000e+09</td>\n",
       "      <td>1.0</td>\n",
       "      <td>...</td>\n",
       "      <td>1.000000</td>\n",
       "      <td>1.000000</td>\n",
       "      <td>1.000000</td>\n",
       "      <td>1.000000</td>\n",
       "      <td>1.000000</td>\n",
       "      <td>1.000000</td>\n",
       "      <td>1.000000</td>\n",
       "      <td>1.000000</td>\n",
       "      <td>1.000000</td>\n",
       "      <td>1.000000</td>\n",
       "    </tr>\n",
       "    <tr>\n",
       "      <th>25%</th>\n",
       "      <td>9.000000</td>\n",
       "      <td>4.000000</td>\n",
       "      <td>4.192017e+06</td>\n",
       "      <td>4.000000</td>\n",
       "      <td>7.000000</td>\n",
       "      <td>2017.000000</td>\n",
       "      <td>1100.000000</td>\n",
       "      <td>2.017003e+09</td>\n",
       "      <td>2.017003e+09</td>\n",
       "      <td>1.0</td>\n",
       "      <td>...</td>\n",
       "      <td>1.000000</td>\n",
       "      <td>1.000000</td>\n",
       "      <td>1.000000</td>\n",
       "      <td>2.000000</td>\n",
       "      <td>2.000000</td>\n",
       "      <td>1.000000</td>\n",
       "      <td>1.000000</td>\n",
       "      <td>1.000000</td>\n",
       "      <td>1.000000</td>\n",
       "      <td>1.000000</td>\n",
       "    </tr>\n",
       "    <tr>\n",
       "      <th>50%</th>\n",
       "      <td>34.000000</td>\n",
       "      <td>7.000000</td>\n",
       "      <td>8.022017e+06</td>\n",
       "      <td>8.000000</td>\n",
       "      <td>15.000000</td>\n",
       "      <td>2017.000000</td>\n",
       "      <td>1100.000000</td>\n",
       "      <td>2.017006e+09</td>\n",
       "      <td>2.017006e+09</td>\n",
       "      <td>1.0</td>\n",
       "      <td>...</td>\n",
       "      <td>2.000000</td>\n",
       "      <td>2.000000</td>\n",
       "      <td>2.000000</td>\n",
       "      <td>3.000000</td>\n",
       "      <td>2.000000</td>\n",
       "      <td>1.000000</td>\n",
       "      <td>1.000000</td>\n",
       "      <td>1.000000</td>\n",
       "      <td>1.000000</td>\n",
       "      <td>2.000000</td>\n",
       "    </tr>\n",
       "    <tr>\n",
       "      <th>75%</th>\n",
       "      <td>36.000000</td>\n",
       "      <td>10.000000</td>\n",
       "      <td>1.021202e+07</td>\n",
       "      <td>10.000000</td>\n",
       "      <td>22.000000</td>\n",
       "      <td>2017.000000</td>\n",
       "      <td>1100.000000</td>\n",
       "      <td>2.017009e+09</td>\n",
       "      <td>2.017009e+09</td>\n",
       "      <td>1.0</td>\n",
       "      <td>...</td>\n",
       "      <td>3.000000</td>\n",
       "      <td>2.000000</td>\n",
       "      <td>2.000000</td>\n",
       "      <td>4.000000</td>\n",
       "      <td>2.000000</td>\n",
       "      <td>1.000000</td>\n",
       "      <td>1.000000</td>\n",
       "      <td>2.000000</td>\n",
       "      <td>2.000000</td>\n",
       "      <td>2.000000</td>\n",
       "    </tr>\n",
       "    <tr>\n",
       "      <th>max</th>\n",
       "      <td>36.000000</td>\n",
       "      <td>12.000000</td>\n",
       "      <td>1.231202e+07</td>\n",
       "      <td>12.000000</td>\n",
       "      <td>31.000000</td>\n",
       "      <td>2018.000000</td>\n",
       "      <td>1200.000000</td>\n",
       "      <td>2.017012e+09</td>\n",
       "      <td>2.017012e+09</td>\n",
       "      <td>1.0</td>\n",
       "      <td>...</td>\n",
       "      <td>9.000000</td>\n",
       "      <td>9.000000</td>\n",
       "      <td>9.000000</td>\n",
       "      <td>9.000000</td>\n",
       "      <td>9.000000</td>\n",
       "      <td>9.000000</td>\n",
       "      <td>9.000000</td>\n",
       "      <td>9.000000</td>\n",
       "      <td>9.000000</td>\n",
       "      <td>9.000000</td>\n",
       "    </tr>\n",
       "  </tbody>\n",
       "</table>\n",
       "<p>8 rows × 357 columns</p>\n",
       "</div>"
      ],
      "text/plain": [
       "             _STATE        FMONTH         IDATE        IMONTH          IDAY  \\\n",
       "count  34545.000000  34545.000000  3.454500e+04  34545.000000  34545.000000   \n",
       "mean      27.046693      6.966855  7.273633e+06      7.119323     15.229295   \n",
       "std       12.026461      3.479398  3.476456e+06      3.476148      8.821280   \n",
       "min        9.000000      1.000000  1.012018e+06      1.000000      1.000000   \n",
       "25%        9.000000      4.000000  4.192017e+06      4.000000      7.000000   \n",
       "50%       34.000000      7.000000  8.022017e+06      8.000000     15.000000   \n",
       "75%       36.000000     10.000000  1.021202e+07     10.000000     22.000000   \n",
       "max       36.000000     12.000000  1.231202e+07     12.000000     31.000000   \n",
       "\n",
       "              IYEAR      DISPCODE         SEQNO          _PSU  CTELENM1  ...  \\\n",
       "count  34545.000000  34545.000000  3.454500e+04  3.454500e+04   18502.0  ...   \n",
       "mean    2017.001274   1118.428137  2.017006e+09  2.017006e+09       1.0  ...   \n",
       "std        0.035667     38.771910  3.360677e+03  3.360677e+03       0.0  ...   \n",
       "min     2017.000000   1100.000000  2.017000e+09  2.017000e+09       1.0  ...   \n",
       "25%     2017.000000   1100.000000  2.017003e+09  2.017003e+09       1.0  ...   \n",
       "50%     2017.000000   1100.000000  2.017006e+09  2.017006e+09       1.0  ...   \n",
       "75%     2017.000000   1100.000000  2.017009e+09  2.017009e+09       1.0  ...   \n",
       "max     2018.000000   1200.000000  2.017012e+09  2.017012e+09       1.0  ...   \n",
       "\n",
       "           _PA300R2      _PA30021      _PASTRNG       _PAREC1      _PASTAE1  \\\n",
       "count  34545.000000  34545.000000  34545.000000  34545.000000  34545.000000   \n",
       "mean       2.909654      2.651498      2.482038      3.553134      2.801216   \n",
       "std        2.499531      2.528344      2.300046      2.457341      2.526893   \n",
       "min        1.000000      1.000000      1.000000      1.000000      1.000000   \n",
       "25%        1.000000      1.000000      1.000000      2.000000      2.000000   \n",
       "50%        2.000000      2.000000      2.000000      3.000000      2.000000   \n",
       "75%        3.000000      2.000000      2.000000      4.000000      2.000000   \n",
       "max        9.000000      9.000000      9.000000      9.000000      9.000000   \n",
       "\n",
       "           _RFSEAT2      _RFSEAT3      _FLSHOT6      _PNEUMO2      _AIDTST3  \n",
       "count  34545.000000  34545.000000  12211.000000  12211.000000  30772.000000  \n",
       "mean       1.850485      1.890606      2.380968      2.447875      1.844339  \n",
       "std        2.409890      2.403713      2.617896      2.828682      1.347835  \n",
       "min        1.000000      1.000000      1.000000      1.000000      1.000000  \n",
       "25%        1.000000      1.000000      1.000000      1.000000      1.000000  \n",
       "50%        1.000000      1.000000      1.000000      1.000000      2.000000  \n",
       "75%        1.000000      1.000000      2.000000      2.000000      2.000000  \n",
       "max        9.000000      9.000000      9.000000      9.000000      9.000000  \n",
       "\n",
       "[8 rows x 357 columns]"
      ]
     },
     "execution_count": 4,
     "metadata": {},
     "output_type": "execute_result"
    }
   ],
   "source": [
    "df.describe()"
   ]
  },
  {
   "cell_type": "code",
   "execution_count": 5,
   "id": "75f48f6b-f0c5-4745-9894-2243783d0318",
   "metadata": {},
   "outputs": [
    {
     "data": {
      "text/html": [
       "<div>\n",
       "<style scoped>\n",
       "    .dataframe tbody tr th:only-of-type {\n",
       "        vertical-align: middle;\n",
       "    }\n",
       "\n",
       "    .dataframe tbody tr th {\n",
       "        vertical-align: top;\n",
       "    }\n",
       "\n",
       "    .dataframe thead th {\n",
       "        text-align: right;\n",
       "    }\n",
       "</style>\n",
       "<table border=\"1\" class=\"dataframe\">\n",
       "  <thead>\n",
       "    <tr style=\"text-align: right;\">\n",
       "      <th></th>\n",
       "      <th>_STATE</th>\n",
       "      <th>FMONTH</th>\n",
       "      <th>IDATE</th>\n",
       "      <th>IMONTH</th>\n",
       "      <th>IDAY</th>\n",
       "      <th>IYEAR</th>\n",
       "      <th>DISPCODE</th>\n",
       "      <th>SEQNO</th>\n",
       "      <th>_PSU</th>\n",
       "      <th>CTELENM1</th>\n",
       "      <th>...</th>\n",
       "      <th>_PA300R2</th>\n",
       "      <th>_PA30021</th>\n",
       "      <th>_PASTRNG</th>\n",
       "      <th>_PAREC1</th>\n",
       "      <th>_PASTAE1</th>\n",
       "      <th>_RFSEAT2</th>\n",
       "      <th>_RFSEAT3</th>\n",
       "      <th>_FLSHOT6</th>\n",
       "      <th>_PNEUMO2</th>\n",
       "      <th>_AIDTST3</th>\n",
       "    </tr>\n",
       "  </thead>\n",
       "  <tbody>\n",
       "    <tr>\n",
       "      <th>49938</th>\n",
       "      <td>9.0</td>\n",
       "      <td>5.0</td>\n",
       "      <td>5172017</td>\n",
       "      <td>5</td>\n",
       "      <td>17</td>\n",
       "      <td>2017</td>\n",
       "      <td>1200.0</td>\n",
       "      <td>2017000001</td>\n",
       "      <td>2.017000e+09</td>\n",
       "      <td>NaN</td>\n",
       "      <td>...</td>\n",
       "      <td>2.0</td>\n",
       "      <td>2.0</td>\n",
       "      <td>2.0</td>\n",
       "      <td>4.0</td>\n",
       "      <td>2.0</td>\n",
       "      <td>1.0</td>\n",
       "      <td>1.0</td>\n",
       "      <td>NaN</td>\n",
       "      <td>NaN</td>\n",
       "      <td>1.0</td>\n",
       "    </tr>\n",
       "    <tr>\n",
       "      <th>49939</th>\n",
       "      <td>9.0</td>\n",
       "      <td>2.0</td>\n",
       "      <td>2142017</td>\n",
       "      <td>2</td>\n",
       "      <td>14</td>\n",
       "      <td>2017</td>\n",
       "      <td>1200.0</td>\n",
       "      <td>2017000002</td>\n",
       "      <td>2.017000e+09</td>\n",
       "      <td>NaN</td>\n",
       "      <td>...</td>\n",
       "      <td>1.0</td>\n",
       "      <td>1.0</td>\n",
       "      <td>1.0</td>\n",
       "      <td>1.0</td>\n",
       "      <td>1.0</td>\n",
       "      <td>2.0</td>\n",
       "      <td>2.0</td>\n",
       "      <td>NaN</td>\n",
       "      <td>NaN</td>\n",
       "      <td>2.0</td>\n",
       "    </tr>\n",
       "    <tr>\n",
       "      <th>49940</th>\n",
       "      <td>9.0</td>\n",
       "      <td>1.0</td>\n",
       "      <td>1292017</td>\n",
       "      <td>1</td>\n",
       "      <td>29</td>\n",
       "      <td>2017</td>\n",
       "      <td>1200.0</td>\n",
       "      <td>2017000003</td>\n",
       "      <td>2.017000e+09</td>\n",
       "      <td>NaN</td>\n",
       "      <td>...</td>\n",
       "      <td>3.0</td>\n",
       "      <td>2.0</td>\n",
       "      <td>1.0</td>\n",
       "      <td>3.0</td>\n",
       "      <td>2.0</td>\n",
       "      <td>1.0</td>\n",
       "      <td>1.0</td>\n",
       "      <td>NaN</td>\n",
       "      <td>NaN</td>\n",
       "      <td>2.0</td>\n",
       "    </tr>\n",
       "    <tr>\n",
       "      <th>49941</th>\n",
       "      <td>9.0</td>\n",
       "      <td>7.0</td>\n",
       "      <td>9112017</td>\n",
       "      <td>9</td>\n",
       "      <td>11</td>\n",
       "      <td>2017</td>\n",
       "      <td>1200.0</td>\n",
       "      <td>2017000004</td>\n",
       "      <td>2.017000e+09</td>\n",
       "      <td>NaN</td>\n",
       "      <td>...</td>\n",
       "      <td>2.0</td>\n",
       "      <td>2.0</td>\n",
       "      <td>2.0</td>\n",
       "      <td>2.0</td>\n",
       "      <td>2.0</td>\n",
       "      <td>1.0</td>\n",
       "      <td>1.0</td>\n",
       "      <td>NaN</td>\n",
       "      <td>NaN</td>\n",
       "      <td>1.0</td>\n",
       "    </tr>\n",
       "    <tr>\n",
       "      <th>49942</th>\n",
       "      <td>9.0</td>\n",
       "      <td>5.0</td>\n",
       "      <td>7182017</td>\n",
       "      <td>7</td>\n",
       "      <td>18</td>\n",
       "      <td>2017</td>\n",
       "      <td>1200.0</td>\n",
       "      <td>2017000005</td>\n",
       "      <td>2.017000e+09</td>\n",
       "      <td>NaN</td>\n",
       "      <td>...</td>\n",
       "      <td>2.0</td>\n",
       "      <td>2.0</td>\n",
       "      <td>1.0</td>\n",
       "      <td>1.0</td>\n",
       "      <td>1.0</td>\n",
       "      <td>1.0</td>\n",
       "      <td>1.0</td>\n",
       "      <td>NaN</td>\n",
       "      <td>NaN</td>\n",
       "      <td>2.0</td>\n",
       "    </tr>\n",
       "  </tbody>\n",
       "</table>\n",
       "<p>5 rows × 358 columns</p>\n",
       "</div>"
      ],
      "text/plain": [
       "       _STATE  FMONTH    IDATE  IMONTH  IDAY  IYEAR  DISPCODE       SEQNO  \\\n",
       "49938     9.0     5.0  5172017       5    17   2017    1200.0  2017000001   \n",
       "49939     9.0     2.0  2142017       2    14   2017    1200.0  2017000002   \n",
       "49940     9.0     1.0  1292017       1    29   2017    1200.0  2017000003   \n",
       "49941     9.0     7.0  9112017       9    11   2017    1200.0  2017000004   \n",
       "49942     9.0     5.0  7182017       7    18   2017    1200.0  2017000005   \n",
       "\n",
       "               _PSU  CTELENM1  ...  _PA300R2  _PA30021  _PASTRNG  _PAREC1  \\\n",
       "49938  2.017000e+09       NaN  ...       2.0       2.0       2.0      4.0   \n",
       "49939  2.017000e+09       NaN  ...       1.0       1.0       1.0      1.0   \n",
       "49940  2.017000e+09       NaN  ...       3.0       2.0       1.0      3.0   \n",
       "49941  2.017000e+09       NaN  ...       2.0       2.0       2.0      2.0   \n",
       "49942  2.017000e+09       NaN  ...       2.0       2.0       1.0      1.0   \n",
       "\n",
       "       _PASTAE1  _RFSEAT2  _RFSEAT3  _FLSHOT6  _PNEUMO2  _AIDTST3  \n",
       "49938       2.0       1.0       1.0       NaN       NaN       1.0  \n",
       "49939       1.0       2.0       2.0       NaN       NaN       2.0  \n",
       "49940       2.0       1.0       1.0       NaN       NaN       2.0  \n",
       "49941       2.0       1.0       1.0       NaN       NaN       1.0  \n",
       "49942       1.0       1.0       1.0       NaN       NaN       2.0  \n",
       "\n",
       "[5 rows x 358 columns]"
      ]
     },
     "execution_count": 5,
     "metadata": {},
     "output_type": "execute_result"
    }
   ],
   "source": [
    "# Subset dataframe to include only tr-state area states (NY,NJ,CT)\n",
    "df[df['_STATE'].isin([9,34,36])].head()"
   ]
  },
  {
   "cell_type": "code",
   "execution_count": 6,
   "id": "bf20e888-1143-4bf9-b8aa-480129e7d83e",
   "metadata": {},
   "outputs": [
    {
     "data": {
      "text/plain": [
       "36.0    12249\n",
       "34.0    11708\n",
       "9.0     10588\n",
       "Name: _STATE, dtype: int64"
      ]
     },
     "execution_count": 6,
     "metadata": {},
     "output_type": "execute_result"
    }
   ],
   "source": [
    "# Inspect the count of records of each state\n",
    "df._STATE.value_counts()"
   ]
  },
  {
   "cell_type": "code",
   "execution_count": 7,
   "id": "d4d2fa48-1004-4283-9fcd-a704aec9cffb",
   "metadata": {},
   "outputs": [
    {
     "data": {
      "text/plain": [
       "(34545, 358)"
      ]
     },
     "execution_count": 7,
     "metadata": {},
     "output_type": "execute_result"
    }
   ],
   "source": [
    "df.shape"
   ]
  },
  {
   "cell_type": "code",
   "execution_count": 8,
   "id": "c142b9c2-8dbf-4a18-b5ad-ac8fc2764f72",
   "metadata": {},
   "outputs": [
    {
     "data": {
      "text/plain": [
       "count    34545.000000\n",
       "mean        60.213403\n",
       "std         37.504566\n",
       "min          1.000000\n",
       "25%         15.000000\n",
       "50%         88.000000\n",
       "75%         88.000000\n",
       "max         99.000000\n",
       "Name: PHYSHLTH, dtype: float64"
      ]
     },
     "execution_count": 8,
     "metadata": {},
     "output_type": "execute_result"
    }
   ],
   "source": [
    "# PHYSHLTH is the variable in question: refer to data cookbook for metadata.\n",
    "df.PHYSHLTH.describe()"
   ]
  },
  {
   "cell_type": "code",
   "execution_count": 9,
   "id": "3eb9979a-225a-44d9-bdb3-283123ea9eda",
   "metadata": {},
   "outputs": [],
   "source": [
    "# Handle non-normal values: 1.) cast null survey responses as null values, 2.) cast 'none' responses as '0'\n",
    "\n",
    "zero_dict = {88:0,\n",
    "             77: np.nan,\n",
    "             99:np.nan}\n",
    "\n",
    "df.PHYSHLTH = df.PHYSHLTH.replace(zero_dict)"
   ]
  },
  {
   "cell_type": "code",
   "execution_count": 10,
   "id": "1d445e2e-def2-4c3c-822d-e4fec3dc8856",
   "metadata": {},
   "outputs": [
    {
     "data": {
      "text/plain": [
       "798"
      ]
     },
     "execution_count": 10,
     "metadata": {},
     "output_type": "execute_result"
    }
   ],
   "source": [
    "# Inspect count of column null values \n",
    "df.PHYSHLTH.isnull().sum()"
   ]
  },
  {
   "cell_type": "code",
   "execution_count": 12,
   "id": "17497e73-fc22-4348-b01e-71a27182bbe0",
   "metadata": {},
   "outputs": [],
   "source": [
    "# Remove column null values\n",
    "df.dropna(subset=['PHYSHLTH'], inplace=True)"
   ]
  },
  {
   "cell_type": "code",
   "execution_count": 13,
   "id": "6efd64bd-8c6c-48d3-b157-64ee3e3411c3",
   "metadata": {},
   "outputs": [
    {
     "data": {
      "text/plain": [
       "(33747, 358)"
      ]
     },
     "execution_count": 13,
     "metadata": {},
     "output_type": "execute_result"
    }
   ],
   "source": [
    "df.shape"
   ]
  },
  {
   "cell_type": "markdown",
   "id": "0609087a-9575-4350-a50e-c7cc6831da32",
   "metadata": {},
   "source": [
    "Now that the target variable is cleaned up, i will take a look a descriptive statistics."
   ]
  },
  {
   "cell_type": "code",
   "execution_count": 14,
   "id": "0f3e83ae-f550-404d-9dee-d44c5a8ff993",
   "metadata": {},
   "outputs": [
    {
     "data": {
      "image/png": "[encoded data removed]",
      "text/plain": [
       "<Figure size 432x288 with 1 Axes>"
      ]
     },
     "metadata": {
      "needs_background": "light"
     },
     "output_type": "display_data"
    }
   ],
   "source": [
    "fig, ax = plt.subplots()\n",
    "\n",
    "# Visualize the target using and boxplot to inspect the data range.\n",
    "ax.boxplot(df['PHYSHLTH'])\n",
    "\n",
    "ax.set_xticklabels(['PHYSHLTH'])\n",
    "\n",
    "ax.set_ylabel(\"Days Sick\")\n",
    "\n",
    "plt.show()"
   ]
  },
  {
   "cell_type": "code",
   "execution_count": 15,
   "id": "51bd6e10-84a7-4933-8a43-db231f9f011f",
   "metadata": {},
   "outputs": [
    {
     "data": {
      "image/png": "[encoded data removed]",
      "text/plain": [
       "<Figure size 432x288 with 1 Axes>"
      ]
     },
     "metadata": {
      "needs_background": "light"
     },
     "output_type": "display_data"
    }
   ],
   "source": [
    "# visualize the PHYSHLTH data distribution\n",
    "fig, ax = plt.subplots()\n",
    "# Plot a histogram of \"Weight\" for mens_rowing\n",
    "ax.hist(df['PHYSHLTH'],color='indigo', bins=15)\n",
    "\n",
    "ax.set_xlabel('Sick Days')\n",
    "ax.set_ylabel('# of observations')\n",
    "ax.set_title(\"Distribution of People's Sick Days\")\n",
    "\n",
    "plt.show()"
   ]
  },
  {
   "cell_type": "code",
   "execution_count": 16,
   "id": "62866028-79e2-49d7-a70d-85b2a0032a40",
   "metadata": {},
   "outputs": [
    {
     "data": {
      "text/plain": [
       "_STATE\n",
       "9.0     3.688562\n",
       "34.0    4.380957\n",
       "36.0    4.148030\n",
       "Name: PHYSHLTH, dtype: float64"
      ]
     },
     "execution_count": 16,
     "metadata": {},
     "output_type": "execute_result"
    }
   ],
   "source": [
    "# compute the avg days sick by state.\n",
    "df.groupby('_STATE')['PHYSHLTH'].mean()"
   ]
  },
  {
   "cell_type": "code",
   "execution_count": 17,
   "id": "d90809db-4d49-4c68-83ed-2d6a10feff50",
   "metadata": {},
   "outputs": [
    {
     "name": "stderr",
     "output_type": "stream",
     "text": [
      "<ipython-input-17-49336ac986e7>:8: UserWarning: FixedFormatter should only be used together with FixedLocator\n",
      "  ax.set_xticklabels(['CT', 'NJ', 'NY'], rotation=90)\n"
     ]
    },
    {
     "data": {
      "image/png": "[encoded data removed]",
      "text/plain": [
       "<Figure size 432x288 with 1 Axes>"
      ]
     },
     "metadata": {
      "needs_background": "light"
     },
     "output_type": "display_data"
    }
   ],
   "source": [
    "# Visualize the average days sick by state\n",
    "\n",
    "means = df.groupby('_STATE')['PHYSHLTH'].mean().values\n",
    "states = ['Conn', 'NJ', 'NY']\n",
    "\n",
    "fig, ax = plt.subplots()\n",
    "ax.bar(states, means, color='indigo')\n",
    "ax.set_xticklabels(['CT', 'NJ', 'NY'], rotation=90)\n",
    "ax.set_ylabel(\"AVG Days Sick\")\n",
    "ax.set_title('Comparing Health by State')\n",
    "\n",
    "plt.show()"
   ]
  },
  {
   "cell_type": "code",
   "execution_count": 18,
   "id": "b010b6bb-df58-4543-aaa4-fb8b8e9a390f",
   "metadata": {},
   "outputs": [
    {
     "data": {
      "image/png": "[encoded data removed]",
      "text/plain": [
       "<Figure size 432x288 with 1 Axes>"
      ]
     },
     "metadata": {
      "needs_background": "light"
     },
     "output_type": "display_data"
    }
   ],
   "source": [
    "#visualize days sick distribution by state\n",
    "fig, ax = plt.subplots()\n",
    "ax.hist(df[df['_STATE']==9]['PHYSHLTH'], bins=15, density=True, histtype='step', label='CT')\n",
    "ax.hist(df[df['_STATE']==34]['PHYSHLTH'], bins=15, density=True,histtype='step', label='NJ')\n",
    "ax.hist(df[df['_STATE']==36]['PHYSHLTH'], bins=15, density=True,histtype='step', label='NY')\n",
    "\n",
    "# Set labels and title\n",
    "ax.set_xlabel('Sick Days')\n",
    "ax.set_ylabel('# of observations')\n",
    "ax.set_title(\"Distribution of People's Sick Days\")\n",
    "ax.legend()\n",
    "\n",
    "plt.show()"
   ]
  },
  {
   "cell_type": "markdown",
   "id": "a5421723-c12c-451f-b730-527a32d66a38",
   "metadata": {},
   "source": [
    "Chronically sick persons account for a significant proportion of costs for health insurers. If what leads people to be chronically sick can be identified, we can address plans for specific treatments."
   ]
  },
  {
   "cell_type": "code",
   "execution_count": 21,
   "id": "1f2429c8-76ea-4052-9797-41e67731110a",
   "metadata": {},
   "outputs": [],
   "source": [
    "# As inferred from PHYSHLTH boxplot, the third quartile is marked approximately at 10 days\n",
    "# **assumption: responses of x > 12 are chronically sick.\n",
    "\n",
    "df['chron'] = np.where(df['PHYSHLTH'] >= 12, 1, 0)"
   ]
  },
  {
   "cell_type": "code",
   "execution_count": 24,
   "id": "25be6550-60c0-499a-a8d3-611b9bec14b2",
   "metadata": {},
   "outputs": [
    {
     "data": {
      "text/plain": [
       "59175     0\n",
       "275868    0\n",
       "53643     1\n",
       "50488     0\n",
       "293015    0\n",
       "Name: chron, dtype: int64"
      ]
     },
     "execution_count": 24,
     "metadata": {},
     "output_type": "execute_result"
    }
   ],
   "source": [
    "df.chron.sample(5)"
   ]
  },
  {
   "cell_type": "code",
   "execution_count": 25,
   "id": "a8dd3674-d576-4be4-ab93-9f31100f8e08",
   "metadata": {},
   "outputs": [
    {
     "data": {
      "text/plain": [
       "_STATE\n",
       "9.0     0.114568\n",
       "34.0    0.139117\n",
       "36.0    0.128915\n",
       "Name: chron, dtype: float64"
      ]
     },
     "execution_count": 25,
     "metadata": {},
     "output_type": "execute_result"
    }
   ],
   "source": [
    "# calculate avg days sick per state.\n",
    "chron_means = df.groupby('_STATE')['chron'].mean().values\n",
    "df.groupby('_STATE')['chron'].mean()"
   ]
  },
  {
   "cell_type": "code",
   "execution_count": 29,
   "id": "72aef179-7175-4e5a-82ad-66096da02c52",
   "metadata": {},
   "outputs": [
    {
     "name": "stderr",
     "output_type": "stream",
     "text": [
      "<ipython-input-29-8b019844b0d6>:6: UserWarning: FixedFormatter should only be used together with FixedLocator\n",
      "  ax.set_xticklabels(['CT', 'NJ', 'NY'])\n",
      "<ipython-input-29-8b019844b0d6>:7: UserWarning: FixedFormatter should only be used together with FixedLocator\n",
      "  ax.set_yticklabels([0,2,4,6,8,10,12,14])\n"
     ]
    },
    {
     "data": {
      "text/plain": [
       "Text(0.5, 1.0, 'State Health Comparison')"
      ]
     },
     "execution_count": 29,
     "metadata": {},
     "output_type": "execute_result"
    },
    {
     "data": {
      "image/png": "[encoded data removed]",
      "text/plain": [
       "<Figure size 432x288 with 1 Axes>"
      ]
     },
     "metadata": {
      "needs_background": "light"
     },
     "output_type": "display_data"
    }
   ],
   "source": [
    "# Visualize a percentage comparison of people labelled sick in each state.\n",
    "fig, ax = plt.subplots()\n",
    "ax.bar(states, chron_means, color = 'indigo')\n",
    "\n",
    "# Set labels and title\n",
    "ax.set_xticklabels(['CT', 'NJ', 'NY'])\n",
    "ax.set_yticklabels([0,2,4,6,8,10,12,14])\n",
    "ax.set_ylabel(\"chronically ill [%]\")\n",
    "ax.set_title('State Health Comparison')"
   ]
  },
  {
   "cell_type": "markdown",
   "id": "44483445-bc5e-4760-b367-bf06b20fc288",
   "metadata": {},
   "source": [
    "Does smoking affect the number of days people feel physically ill? \n",
    "From reading the cookbook, I found that not all respondents were asked the question (add something here about how it lead to choices in cleaning the data)\n",
    "\n",
    "Following from the data cookbook, the code values are:\n",
    "\n",
    "* 1 - Everyday\n",
    "* 2 - Somedays\n",
    "* 3 - Not at all ; Go to Section 09.04 LASTSMK2\n",
    "* 7 - Don't know ; Not Sure—Go to Section 09.05 USENOW3\n",
    "* 9 - Refused ; Go to Section 09.05 USENOW3\n",
    "* BLANK\n",
    "\n",
    "the SMOKE100 (how many cigarettes in the last 100 days) field contains responsed that can be sourced into SMOKDAY2\n",
    "entries"
   ]
  },
  {
   "cell_type": "code",
   "execution_count": 34,
   "id": "ab2af18a-d62f-468a-9681-a24f2b4038a0",
   "metadata": {},
   "outputs": [
    {
     "data": {
      "text/plain": [
       "(3.0    9494\n",
       " 1.0    2611\n",
       " 2.0    1336\n",
       " 9.0      21\n",
       " 7.0       6\n",
       " Name: SMOKDAY2, dtype: int64,\n",
       " 'sum = 13468',\n",
       " 'total counts = 33747')"
      ]
     },
     "execution_count": 34,
     "metadata": {},
     "output_type": "execute_result"
    }
   ],
   "source": [
    "df.SMOKDAY2.value_counts(), 'sum = ' + str(df.SMOKDAY2.value_counts().sum()), 'total counts = ' + str(len(df.SMOKDAY2)) "
   ]
  },
  {
   "cell_type": "code",
   "execution_count": 35,
   "id": "d7e3987d-4f16-461d-a42e-c9388b329fe8",
   "metadata": {},
   "outputs": [
    {
     "data": {
      "text/plain": [
       "32153"
      ]
     },
     "execution_count": 35,
     "metadata": {},
     "output_type": "execute_result"
    }
   ],
   "source": [
    "# compile all smoking responses into one column\n",
    "\n",
    "#Entries in smok100 with code 2 are 'no' so encode as 3 - 'not at all' in smokday2\n",
    "df['smoking'] = np.where(df.SMOKE100 == 2,3,df.SMOKDAY2)\n",
    "\n",
    "#check total values after update: should equal 33743 - nonsmokers (323259)\n",
    "df.smoking.value_counts().sum()"
   ]
  },
  {
   "cell_type": "code",
   "execution_count": 36,
   "id": "7b517815-5ffe-4fb8-b143-50795645c560",
   "metadata": {},
   "outputs": [],
   "source": [
    "# Entries in smok100 with code 7,9 are coded with same response in smokday2\n",
    "df['smoking'] = np.where(df['SMOKE100']==7, 7, df['smoking'])\n",
    "df['smoking'] = np.where(df['SMOKE100']==9, 9, df['smoking'])"
   ]
  },
  {
   "cell_type": "code",
   "execution_count": 37,
   "id": "bcd575f0-8f6b-40fd-95bf-d769c2521938",
   "metadata": {},
   "outputs": [
    {
     "data": {
      "text/plain": [
       "(32359, 32359)"
      ]
     },
     "execution_count": 37,
     "metadata": {},
     "output_type": "execute_result"
    }
   ],
   "source": [
    "# Verify the columns have been compiled by inspecting counts in both, they should be equal\n",
    "(df.smoking.value_counts().sum(),df.smoking.count())"
   ]
  },
  {
   "cell_type": "code",
   "execution_count": 38,
   "id": "4dbbd975-79c5-42e1-8301-3f55b243fb51",
   "metadata": {},
   "outputs": [
    {
     "data": {
      "text/plain": [
       "3.0    0.870824\n",
       "1.0    0.080689\n",
       "2.0    0.041287\n",
       "7.0    0.005161\n",
       "9.0    0.002040\n",
       "Name: smoking, dtype: float64"
      ]
     },
     "execution_count": 38,
     "metadata": {},
     "output_type": "execute_result"
    }
   ],
   "source": [
    "# compute smoking, non-smoking averages \n",
    "smoking_avgs = df['smoking'].value_counts()/df['smoking'].count()\n",
    "smoking_avgs"
   ]
  },
  {
   "cell_type": "code",
   "execution_count": 39,
   "id": "bb18a8ae-0227-40f4-bd64-bccbf8b65b65",
   "metadata": {},
   "outputs": [
    {
     "name": "stderr",
     "output_type": "stream",
     "text": [
      "<ipython-input-39-c03623147e29>:4: UserWarning: FixedFormatter should only be used together with FixedLocator\n",
      "  ax.set_xticklabels(['Non-Smoker', 'Everyday', 'Some Days',\"Don't Know\", \"Refused\"], rotation=45)\n",
      "<ipython-input-39-c03623147e29>:5: UserWarning: FixedFormatter should only be used together with FixedLocator\n",
      "  ax.set_yticklabels([0,20,40,60,80])\n"
     ]
    },
    {
     "data": {
      "image/png": "[encoded data removed]",
      "text/plain": [
       "<Figure size 432x288 with 1 Axes>"
      ]
     },
     "metadata": {
      "needs_background": "light"
     },
     "output_type": "display_data"
    }
   ],
   "source": [
    "# Visualize smoking avgs with bar chart\n",
    "fig, ax = plt.subplots()\n",
    "ax.bar(['Non-Smoker', 'Everyday', 'Some Days',\"Don't Know\", \"Refused\"], smoking_avgs, color='indigo')\n",
    "ax.set_xticklabels(['Non-Smoker', 'Everyday', 'Some Days',\"Don't Know\", \"Refused\"], rotation=45)\n",
    "ax.set_yticklabels([0,20,40,60,80])\n",
    "ax.set_ylabel(\"Percent of survey\")\n",
    "ax.set_title('Smoking Status Responses')\n",
    "\n",
    "plt.show()\n"
   ]
  },
  {
   "cell_type": "markdown",
   "id": "f8bc4700-995c-4c0b-b594-265950677dfc",
   "metadata": {},
   "source": [
    "Show smoking proportions by state"
   ]
  },
  {
   "cell_type": "code",
   "execution_count": 40,
   "id": "fdd352e2-aaa7-4986-bfbd-6e360028ea80",
   "metadata": {},
   "outputs": [
    {
     "data": {
      "text/plain": [
       "_STATE  smoking\n",
       "9.0     1.0         706\n",
       "        2.0         344\n",
       "        3.0        8870\n",
       "        7.0          65\n",
       "        9.0          26\n",
       "34.0    1.0         901\n",
       "        2.0         480\n",
       "        3.0        9595\n",
       "        7.0          74\n",
       "        9.0          14\n",
       "36.0    1.0        1004\n",
       "        2.0         512\n",
       "        3.0        9714\n",
       "        7.0          28\n",
       "        9.0          26\n",
       "Name: smoking, dtype: int64"
      ]
     },
     "execution_count": 40,
     "metadata": {},
     "output_type": "execute_result"
    }
   ],
   "source": [
    "# compute the response sums by response by state \n",
    "df.groupby(['_STATE', 'smoking'])['smoking'].count()"
   ]
  },
  {
   "cell_type": "code",
   "execution_count": 41,
   "id": "e76ce5f6-7d2c-4e4e-8fb0-ae7a5fbfbf45",
   "metadata": {},
   "outputs": [],
   "source": [
    "# replace the codings with descriptions and create new column with \n",
    "# response category\n",
    "\n",
    "repl_dict = {3:'none', \n",
    "             2: 'some',\n",
    "             1: 'every',\n",
    "             7: 'unknown',\n",
    "             9: 'unknown'}\n",
    "\n",
    "df['smoking_cat'] = df['smoking'].replace(repl_dict)"
   ]
  },
  {
   "cell_type": "code",
   "execution_count": 72,
   "id": "8931721e-9277-4da8-8a38-1d83e8dcec96",
   "metadata": {},
   "outputs": [
    {
     "data": {
      "text/html": [
       "<div>\n",
       "<style scoped>\n",
       "    .dataframe tbody tr th:only-of-type {\n",
       "        vertical-align: middle;\n",
       "    }\n",
       "\n",
       "    .dataframe tbody tr th {\n",
       "        vertical-align: top;\n",
       "    }\n",
       "\n",
       "    .dataframe thead th {\n",
       "        text-align: right;\n",
       "    }\n",
       "</style>\n",
       "<table border=\"1\" class=\"dataframe\">\n",
       "  <thead>\n",
       "    <tr style=\"text-align: right;\">\n",
       "      <th></th>\n",
       "      <th></th>\n",
       "      <th>smoking_cat</th>\n",
       "    </tr>\n",
       "    <tr>\n",
       "      <th>_STATE</th>\n",
       "      <th>smoking_cat</th>\n",
       "      <th></th>\n",
       "    </tr>\n",
       "  </thead>\n",
       "  <tbody>\n",
       "    <tr>\n",
       "      <th rowspan=\"4\" valign=\"top\">9.0</th>\n",
       "      <th>none</th>\n",
       "      <td>88.602537</td>\n",
       "    </tr>\n",
       "    <tr>\n",
       "      <th>every</th>\n",
       "      <td>7.052243</td>\n",
       "    </tr>\n",
       "    <tr>\n",
       "      <th>some</th>\n",
       "      <td>3.436220</td>\n",
       "    </tr>\n",
       "    <tr>\n",
       "      <th>unknown</th>\n",
       "      <td>0.909000</td>\n",
       "    </tr>\n",
       "    <tr>\n",
       "      <th rowspan=\"4\" valign=\"top\">34.0</th>\n",
       "      <th>none</th>\n",
       "      <td>86.722704</td>\n",
       "    </tr>\n",
       "    <tr>\n",
       "      <th>every</th>\n",
       "      <td>8.143529</td>\n",
       "    </tr>\n",
       "    <tr>\n",
       "      <th>some</th>\n",
       "      <td>4.338395</td>\n",
       "    </tr>\n",
       "    <tr>\n",
       "      <th>unknown</th>\n",
       "      <td>0.795372</td>\n",
       "    </tr>\n",
       "    <tr>\n",
       "      <th rowspan=\"4\" valign=\"top\">36.0</th>\n",
       "      <th>none</th>\n",
       "      <td>86.086494</td>\n",
       "    </tr>\n",
       "    <tr>\n",
       "      <th>every</th>\n",
       "      <td>8.897554</td>\n",
       "    </tr>\n",
       "    <tr>\n",
       "      <th>some</th>\n",
       "      <td>4.537398</td>\n",
       "    </tr>\n",
       "    <tr>\n",
       "      <th>unknown</th>\n",
       "      <td>0.478554</td>\n",
       "    </tr>\n",
       "  </tbody>\n",
       "</table>\n",
       "</div>"
      ],
      "text/plain": [
       "                    smoking_cat\n",
       "_STATE smoking_cat             \n",
       "9.0    none           88.602537\n",
       "       every           7.052243\n",
       "       some            3.436220\n",
       "       unknown         0.909000\n",
       "34.0   none           86.722704\n",
       "       every           8.143529\n",
       "       some            4.338395\n",
       "       unknown         0.795372\n",
       "36.0   none           86.086494\n",
       "       every           8.897554\n",
       "       some            4.537398\n",
       "       unknown         0.478554"
      ]
     },
     "execution_count": 72,
     "metadata": {},
     "output_type": "execute_result"
    }
   ],
   "source": [
    "#create new frame with data on state percentage smoking categories\n",
    "state_percentage = pd.DataFrame(df.groupby(by = '_STATE')['smoking_cat'].value_counts(normalize = True) * 100)\n",
    "state_percentage"
   ]
  },
  {
   "cell_type": "code",
   "execution_count": 70,
   "id": "c2d84fd6-a631-4b54-9092-ee83d6526623",
   "metadata": {},
   "outputs": [
    {
     "data": {
      "text/html": [
       "<div>\n",
       "<style scoped>\n",
       "    .dataframe tbody tr th:only-of-type {\n",
       "        vertical-align: middle;\n",
       "    }\n",
       "\n",
       "    .dataframe tbody tr th {\n",
       "        vertical-align: top;\n",
       "    }\n",
       "\n",
       "    .dataframe thead tr th {\n",
       "        text-align: left;\n",
       "    }\n",
       "\n",
       "    .dataframe thead tr:last-of-type th {\n",
       "        text-align: right;\n",
       "    }\n",
       "</style>\n",
       "<table border=\"1\" class=\"dataframe\">\n",
       "  <thead>\n",
       "    <tr>\n",
       "      <th></th>\n",
       "      <th colspan=\"4\" halign=\"left\">smoking_cat</th>\n",
       "    </tr>\n",
       "    <tr>\n",
       "      <th>smoking_cat</th>\n",
       "      <th>every</th>\n",
       "      <th>none</th>\n",
       "      <th>some</th>\n",
       "      <th>unknown</th>\n",
       "    </tr>\n",
       "    <tr>\n",
       "      <th>_STATE</th>\n",
       "      <th></th>\n",
       "      <th></th>\n",
       "      <th></th>\n",
       "      <th></th>\n",
       "    </tr>\n",
       "  </thead>\n",
       "  <tbody>\n",
       "    <tr>\n",
       "      <th>9.0</th>\n",
       "      <td>7.052243</td>\n",
       "      <td>88.602537</td>\n",
       "      <td>3.436220</td>\n",
       "      <td>0.909000</td>\n",
       "    </tr>\n",
       "    <tr>\n",
       "      <th>34.0</th>\n",
       "      <td>8.143529</td>\n",
       "      <td>86.722704</td>\n",
       "      <td>4.338395</td>\n",
       "      <td>0.795372</td>\n",
       "    </tr>\n",
       "    <tr>\n",
       "      <th>36.0</th>\n",
       "      <td>8.897554</td>\n",
       "      <td>86.086494</td>\n",
       "      <td>4.537398</td>\n",
       "      <td>0.478554</td>\n",
       "    </tr>\n",
       "  </tbody>\n",
       "</table>\n",
       "</div>"
      ],
      "text/plain": [
       "            smoking_cat                               \n",
       "smoking_cat       every       none      some   unknown\n",
       "_STATE                                                \n",
       "9.0            7.052243  88.602537  3.436220  0.909000\n",
       "34.0           8.143529  86.722704  4.338395  0.795372\n",
       "36.0           8.897554  86.086494  4.537398  0.478554"
      ]
     },
     "execution_count": 70,
     "metadata": {},
     "output_type": "execute_result"
    }
   ],
   "source": [
    "state_percentage.unstack()"
   ]
  },
  {
   "cell_type": "code",
   "execution_count": 71,
   "id": "2b79ed90-df4f-463b-912f-37fc50a92984",
   "metadata": {},
   "outputs": [
    {
     "data": {
      "text/plain": [
       "<matplotlib.legend.Legend at 0x7f8ffca73820>"
      ]
     },
     "execution_count": 71,
     "metadata": {},
     "output_type": "execute_result"
    },
    {
     "data": {
      "image/png": "[encoded data removed]",
      "text/plain": [
       "<Figure size 432x288 with 1 Axes>"
      ]
     },
     "metadata": {
      "needs_background": "light"
     },
     "output_type": "display_data"
    }
   ],
   "source": [
    "# create stacked histogram \n",
    "state_percentage.unstack().plot(kind='bar', stacked=True)\n",
    "plt.xlabel('State', fontsize=14)\n",
    "plt.xticks([0,1,2],labels= ['CT','NJ','NY'])\n",
    "plt.ylabel('Category Percent',fontsize=14)\n",
    "plt.title('Smoking Category By State', fontsize=16)\n",
    "plt.legend(loc = (1.0125,.695))"
   ]
  },
  {
   "cell_type": "code",
   "execution_count": 73,
   "id": "bbad0a25-7f28-49fd-bede-ee3775e030a9",
   "metadata": {},
   "outputs": [
    {
     "data": {
      "text/plain": [
       "smoking_cat\n",
       "every      6.653007\n",
       "none       3.764435\n",
       "some       6.295659\n",
       "unknown    4.081545\n",
       "Name: PHYSHLTH, dtype: float64"
      ]
     },
     "execution_count": 73,
     "metadata": {},
     "output_type": "execute_result"
    }
   ],
   "source": [
    "category_avg = df.groupby('smoking_cat')['PHYSHLTH'].mean()\n",
    "category_std = df.groupby('smoking_cat')['PHYSHLTH'].std()\n",
    "category_avg"
   ]
  },
  {
   "cell_type": "code",
   "execution_count": 75,
   "id": "701772a9-6b11-4373-aa8d-3a0481cc0121",
   "metadata": {},
   "outputs": [
    {
     "name": "stderr",
     "output_type": "stream",
     "text": [
      "<ipython-input-75-edb491c5b2b9>:8: UserWarning: FixedFormatter should only be used together with FixedLocator\n",
      "  ax.set_xticklabels(['Everyday', 'Non-Smoker','Some Days',\"Don't Know\"], rotation=45, fontsize=14)\n"
     ]
    },
    {
     "data": {
      "text/plain": [
       "Text(0.5, 1.0, 'Average Days Sick by Smoking Status')"
      ]
     },
     "execution_count": 75,
     "metadata": {},
     "output_type": "execute_result"
    },
    {
     "data": {
      "image/png": "[encoded data removed]",
      "text/plain": [
       "<Figure size 432x288 with 1 Axes>"
      ]
     },
     "metadata": {
      "needs_background": "light"
     },
     "output_type": "display_data"
    }
   ],
   "source": [
    "# code to graph those averages using matplotlib\n",
    "fig, ax = plt.subplots()\n",
    "\n",
    "# Plot a bar-chart\n",
    "ax.bar(['Every', 'Non', 'Some',\"unknown\"], category_avg, color='indigo')\n",
    "\n",
    "# Set title and lables\n",
    "ax.set_xticklabels(['Everyday', 'Non-Smoker','Some Days',\"Don't Know\"], rotation=45, fontsize=14)\n",
    "ax.set_ylabel(\"AVG Days Sick (chron_ill) [N]\", fontsize=14)\n",
    "ax.set_title('Average Days Sick by Smoking Status', fontsize=16)"
   ]
  },
  {
   "cell_type": "markdown",
   "id": "21f16559-e204-4136-9ac2-c9a96b2872ff",
   "metadata": {},
   "source": [
    "#### Now considering the amount of days a person drinks and how that affects the number of days they feel physically ill. For this I turn to the header `ALCDAY5` : how many drinks reported in the last 30 days"
   ]
  },
  {
   "cell_type": "code",
   "execution_count": 76,
   "id": "aa76b9c9-1123-449c-abbb-aa454c08fec1",
   "metadata": {},
   "outputs": [],
   "source": [
    "# Format ALCDAY5 responses appropriately.\n",
    "alc_dict = {888:0,\n",
    "           777: np.nan,\n",
    "           999: np.nan\n",
    "           }\n",
    "df['alcohol'] = df['ALCDAY5'].replace(alc_dict)"
   ]
  },
  {
   "cell_type": "code",
   "execution_count": 77,
   "id": "f2d428fc-702c-4c1b-a90a-8eed97ba0208",
   "metadata": {},
   "outputs": [
    {
     "data": {
      "text/plain": [
       "count    31532.000000\n",
       "mean       107.654129\n",
       "std         95.274739\n",
       "min          0.000000\n",
       "25%          0.000000\n",
       "50%        103.000000\n",
       "75%        203.000000\n",
       "max        230.000000\n",
       "Name: alcohol, dtype: float64"
      ]
     },
     "execution_count": 77,
     "metadata": {},
     "output_type": "execute_result"
    }
   ],
   "source": [
    "#descriptive statistics of cleaned data\n",
    "df.alcohol.describe()"
   ]
  },
  {
   "cell_type": "code",
   "execution_count": 79,
   "id": "4dad85f1-9465-46c2-875d-fc20983d291f",
   "metadata": {},
   "outputs": [],
   "source": [
    "# define function to decode responses in ALCDAY5: days/week, days/month,\n",
    "# in the last 30 days had at least one alcoholic beverage.\n",
    "# 1--: days per week , 2--: days per month.\n",
    "\n",
    "def calc_monthly(x):\n",
    "    if x>200:\n",
    "        return x-200\n",
    "    elif x>100:\n",
    "        return min( (x-100)*4.34524 , 30 )  # for accuracy, conversion factor is 1 month : 4.34524 weeks, this gives appropriate drinks per month\n",
    "    else:                                   # conversion when responses given are given on week-basis.\n",
    "        return x"
   ]
  },
  {
   "cell_type": "code",
   "execution_count": 80,
   "id": "226ff82e-e8b2-474d-8ab4-361ca5c4e92a",
   "metadata": {},
   "outputs": [],
   "source": [
    "# Create correctly formatted column for drinks in the past 30 days.\n",
    "df.alcohol = df.alcohol.apply(calc_monthly)"
   ]
  },
  {
   "cell_type": "code",
   "execution_count": 81,
   "id": "a144ae94-413d-454f-974b-3aa446d5ee42",
   "metadata": {},
   "outputs": [
    {
     "data": {
      "text/plain": [
       "count    31532.000000\n",
       "mean         5.495244\n",
       "std          8.423029\n",
       "min          0.000000\n",
       "25%          0.000000\n",
       "50%          2.000000\n",
       "75%          7.000000\n",
       "max         30.000000\n",
       "Name: alcohol, dtype: float64"
      ]
     },
     "execution_count": 81,
     "metadata": {},
     "output_type": "execute_result"
    }
   ],
   "source": [
    "#check numbers now agree with decoded response values.\n",
    "df.alcohol.describe() "
   ]
  },
  {
   "cell_type": "markdown",
   "id": "83bbc554-d8d8-43bb-8735-1274642bac46",
   "metadata": {},
   "source": [
    "#### The descriptive statistics are now reasonable based on the expected category observations"
   ]
  },
  {
   "cell_type": "code",
   "execution_count": 85,
   "id": "ba93ef5b-e94f-4740-bc71-2fe924ef8253",
   "metadata": {},
   "outputs": [
    {
     "data": {
      "image/png": "[encoded data removed]",
      "text/plain": [
       "<Figure size 432x288 with 1 Axes>"
      ]
     },
     "metadata": {
      "needs_background": "light"
     },
     "output_type": "display_data"
    }
   ],
   "source": [
    "# Visualize 'drinking day' distribution.\n",
    "\n",
    "fig, ax = plt.subplots()\n",
    "ax.hist(df['alcohol'], bins=30, color='indigo')\n",
    "\n",
    "ax.set_xlabel('Days Drinking [#]', fontsize = 14)\n",
    "ax.set_ylabel('Observations [N]', fontsize = 14)\n",
    "ax.set_title(\"Distribution of Monthly Drinking Days\", fontsize=16)\n",
    "\n",
    "plt.show()"
   ]
  },
  {
   "cell_type": "code",
   "execution_count": 91,
   "id": "0526eedd-e580-4814-b761-9a6728d7bada",
   "metadata": {},
   "outputs": [
    {
     "data": {
      "text/plain": [
       "(_STATE\n",
       " 9.0     6.199627\n",
       " 34.0    5.057856\n",
       " 36.0    5.301178\n",
       " Name: alcohol, dtype: float64,\n",
       " '9.0 : CT, 34.0 : NJ, 36.0 : NY')"
      ]
     },
     "execution_count": 91,
     "metadata": {},
     "output_type": "execute_result"
    }
   ],
   "source": [
    "alcohol_state = df.groupby(['_STATE'])['alcohol'].mean().values\n",
    "df.groupby(['_STATE'])['alcohol'].mean(), ('9.0 : CT, 34.0 : NJ, 36.0 : NY')\n"
   ]
  },
  {
   "cell_type": "code",
   "execution_count": 94,
   "id": "817f9a27-37a6-4101-bb70-521623ac6398",
   "metadata": {},
   "outputs": [
    {
     "data": {
      "image/png": "[encoded data removed]",
      "text/plain": [
       "<Figure size 432x288 with 1 Axes>"
      ]
     },
     "metadata": {
      "needs_background": "light"
     },
     "output_type": "display_data"
    }
   ],
   "source": [
    "fig, ax = plt.subplots()\n",
    "ax.scatter(df[\"alcohol\"], df[\"PHYSHLTH\"],color = 'indigo')\n",
    "ax.set_xlabel(\"Drinking Days\")\n",
    "ax.set_ylabel(\"Sick Days\")\n",
    "ax.set_title('Relationship between Drinking and Health')\n",
    "plt.show()"
   ]
  },
  {
   "cell_type": "markdown",
   "id": "dfa1aad4-4bae-4beb-bd38-aa779ac76603",
   "metadata": {},
   "source": [
    "#### The scatterplot doesnt clearly show a correlation between days ill and drinks per month, so lets find it analytically."
   ]
  },
  {
   "cell_type": "code",
   "execution_count": 95,
   "id": "bce0cde3-fdba-4f02-86f5-18f4e188dbf4",
   "metadata": {},
   "outputs": [
    {
     "data": {
      "text/plain": [
       "PHYSHLTH    1.000000\n",
       "alcohol    -0.091154\n",
       "Name: PHYSHLTH, dtype: float64"
      ]
     },
     "execution_count": 95,
     "metadata": {},
     "output_type": "execute_result"
    }
   ],
   "source": [
    "df[['PHYSHLTH', 'alcohol']].corr()['PHYSHLTH']"
   ]
  },
  {
   "cell_type": "markdown",
   "id": "a73a4368-94eb-47da-9efd-fadf971e83e2",
   "metadata": {},
   "source": [
    "### Statistical Inference"
   ]
  },
  {
   "cell_type": "code",
   "execution_count": 96,
   "id": "b159c316-d9a0-4a62-8931-2d714fd237b4",
   "metadata": {},
   "outputs": [
    {
     "name": "stdout",
     "output_type": "stream",
     "text": [
      "We are 95% confident that the population mean of days physically ill in the \n",
      "in the tri-state area is between: (3.9945125255385756, 4.176169312847059)\n"
     ]
    }
   ],
   "source": [
    "import scipy.stats as stats\n",
    "\n",
    "mu = df.PHYSHLTH.mean()\n",
    "\n",
    "stdev = np.std(df.PHYSHLTH)/np.sqrt(len(df.PHYSHLTH))\n",
    "confidence_interval = stats.norm.interval(alpha = 0.95,\n",
    "                 loc = mu,\n",
    "                 scale = stdev)\n",
    "\n",
    "\n",
    "\n",
    "print('We are 95% confident that the population mean of days physically ill in the ' + '\\n'\n",
    "      + 'in the tri-state area is between: '+ str(confidence_interval))"
   ]
  },
  {
   "cell_type": "code",
   "execution_count": 98,
   "id": "00194540-84fb-459c-8cd5-27563832d1ea",
   "metadata": {},
   "outputs": [
    {
     "data": {
      "text/plain": [
       "53470     0\n",
       "281061    0\n",
       "300497    0\n",
       "281397    0\n",
       "292841    1\n",
       "293561    0\n",
       "303351    0\n",
       "293283    0\n",
       "298397    0\n",
       "301778    0\n",
       "Name: chron, dtype: int64"
      ]
     },
     "execution_count": 98,
     "metadata": {},
     "output_type": "execute_result"
    }
   ],
   "source": [
    "df.chron.sample(10)"
   ]
  },
  {
   "cell_type": "code",
   "execution_count": 99,
   "id": "f8aba746-20b7-4641-bb48-cc74e483b845",
   "metadata": {},
   "outputs": [
    {
     "name": "stdout",
     "output_type": "stream",
     "text": [
      "We are 95% confident that the population proportion of persons chronically\n",
      "ill in the tri-state area is between (0.12438822332438251, 0.13151600519963444) percent.\n"
     ]
    }
   ],
   "source": [
    "mu_chron = df.chron.mean()\n",
    "\n",
    "stderr_chron = np.std(df.chron)/np.sqrt(len(df.chron))\n",
    "\n",
    "confidence_interval_chron = stats.norm.interval(alpha = 0.95,\n",
    "                 loc = mu_chron,\n",
    "                 scale = stderr_chron)\n",
    "\n",
    "\n",
    "\n",
    "\n",
    "print('We are 95% confident that the population proportion of persons chronically' + '\\n'\n",
    "      + 'ill in the tri-state area is between ' + str(confidence_interval_chron) + ' percent.')"
   ]
  },
  {
   "cell_type": "markdown",
   "id": "e2d29ac3-5f9e-47b0-8550-dd6da3b0a743",
   "metadata": {},
   "source": [
    "### Hypothesis testing"
   ]
  },
  {
   "cell_type": "code",
   "execution_count": null,
   "id": "872733fa-3310-4e3b-8907-2a266203d02b",
   "metadata": {},
   "outputs": [],
   "source": [
    "# Null Hypothesis \n",
    "#1.) H_0 = p_men - p_women = 0 ; H_A : p_men - p_women != 0  \"proportions of men sick v ... women sick\""
   ]
  },
  {
   "cell_type": "code",
   "execution_count": 102,
   "id": "20beaa3e-c20a-438d-99e9-9696bead9676",
   "metadata": {},
   "outputs": [],
   "source": [
    "df['male_sick'] = df.SEX.map(lambda x : 1 if x==1.0 else 0)\n",
    "df['female_sick'] = df.SEX.map(lambda x : 1 if x==2.0 else 0)"
   ]
  },
  {
   "cell_type": "code",
   "execution_count": 103,
   "id": "efda8d95-a54e-4d2a-aa7b-881784bbf6fc",
   "metadata": {},
   "outputs": [
    {
     "data": {
      "text/plain": [
       "(0.43909088215248765, 0.5603757371025573)"
      ]
     },
     "execution_count": 103,
     "metadata": {},
     "output_type": "execute_result"
    }
   ],
   "source": [
    "df.male_sick.mean(), df.female_sick.mean()"
   ]
  },
  {
   "cell_type": "code",
   "execution_count": 104,
   "id": "77eb5390-6b75-4e09-b43b-18bebf18d479",
   "metadata": {},
   "outputs": [
    {
     "data": {
      "text/plain": [
       "2.0    18911\n",
       "1.0    14818\n",
       "9.0       18\n",
       "Name: SEX, dtype: int64"
      ]
     },
     "execution_count": 104,
     "metadata": {},
     "output_type": "execute_result"
    }
   ],
   "source": [
    "df.SEX.value_counts()"
   ]
  },
  {
   "cell_type": "code",
   "execution_count": 106,
   "id": "bc70d7ed-b5d8-4599-b999-4d7b0c84ec8a",
   "metadata": {},
   "outputs": [
    {
     "data": {
      "text/plain": [
       "33729"
      ]
     },
     "execution_count": 106,
     "metadata": {},
     "output_type": "execute_result"
    }
   ],
   "source": [
    "18911+14818"
   ]
  },
  {
   "cell_type": "code",
   "execution_count": 107,
   "id": "21b746a0-8e76-42cd-ad1d-8423b4235e67",
   "metadata": {},
   "outputs": [
    {
     "data": {
      "text/plain": [
       "(14818, 33747)"
      ]
     },
     "execution_count": 107,
     "metadata": {},
     "output_type": "execute_result"
    }
   ],
   "source": [
    "# total males sick out of entire sick population (male & female)\n",
    "(len(df[df['male_sick']==1.0]),df.male_sick.count())"
   ]
  },
  {
   "cell_type": "code",
   "execution_count": 110,
   "id": "cf7d2c40-b300-4a17-a579-15e435c08331",
   "metadata": {},
   "outputs": [
    {
     "data": {
      "text/plain": [
       "(14818, 18911)"
      ]
     },
     "execution_count": 110,
     "metadata": {},
     "output_type": "execute_result"
    }
   ],
   "source": [
    "(len(df[df['male_sick']==1.0]),len(df[df['female_sick']==1.0]))"
   ]
  },
  {
   "cell_type": "code",
   "execution_count": 118,
   "id": "97046948-15dc-41ea-9d93-d9795ca72c07",
   "metadata": {},
   "outputs": [
    {
     "data": {
      "text/plain": [
       "0.5603757371025573"
      ]
     },
     "execution_count": 118,
     "metadata": {},
     "output_type": "execute_result"
    }
   ],
   "source": [
    "# percentage of women sick out of total sick sample\n",
    "p_woman = sum(df.female_sick)/df.female_sick.count()\n",
    "p_woman"
   ]
  },
  {
   "cell_type": "code",
   "execution_count": 119,
   "id": "1d3e8b96-7d39-4863-b007-e645cdb5bda7",
   "metadata": {},
   "outputs": [
    {
     "ename": "SyntaxError",
     "evalue": "invalid syntax (<ipython-input-119-79dadd37c737>, line 4)",
     "output_type": "error",
     "traceback": [
      "\u001b[0;36m  File \u001b[0;32m\"<ipython-input-119-79dadd37c737>\"\u001b[0;36m, line \u001b[0;32m4\u001b[0m\n\u001b[0;31m    p_hat = (sum(df.male_sick) + sum(df.female_sick)) /\u001b[0m\n\u001b[0m                                                        ^\u001b[0m\n\u001b[0;31mSyntaxError\u001b[0m\u001b[0;31m:\u001b[0m invalid syntax\n"
     ]
    }
   ],
   "source": [
    "# Is there a statistically significant difference between the percentages of men \n",
    "# population sdev not known, n>> 30:\n",
    "# appropriate statistical test : t-test.\n",
    "\n",
    "p_hat = (sum(df.male_sick) + sum(df.female_sick))  \n",
    "\n",
    "p_man =  sum(df.male_sick)/df.male_sick.count()\n",
    "p_woman = sum(df.female_sick)/df.female_sick.count()\n",
    "\n",
    "z = (p_man-p_woman) / np.sqrt( (p_hat*(1-p_hat))/(2/df.male_sick.count())) \n",
    "z\n",
    "# tsdf.SEX.count()"
   ]
  },
  {
   "cell_type": "code",
   "execution_count": null,
   "id": "73375f2f-2aee-4e95-9c12-bd3be41a369c",
   "metadata": {},
   "outputs": [],
   "source": []
  },
  {
   "cell_type": "code",
   "execution_count": null,
   "id": "8ba948dc-af94-4d5f-b74e-522e8d902c69",
   "metadata": {},
   "outputs": [],
   "source": []
  }
 ],
 "metadata": {
  "kernelspec": {
   "display_name": "Python 3",
   "language": "python",
   "name": "python3"
  },
  "language_info": {
   "codemirror_mode": {
    "name": "ipython",
    "version": 3
   },
   "file_extension": ".py",
   "mimetype": "text/x-python",
   "name": "python",
   "nbconvert_exporter": "python",
   "pygments_lexer": "ipython3",
   "version": "3.8.8"
  }
 },
 "nbformat": 4,
 "nbformat_minor": 5
}
